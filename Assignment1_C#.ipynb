{
 "cells": [
  {
   "cell_type": "markdown",
   "id": "9972a9f2",
   "metadata": {},
   "source": [
    "1)What data type is each of the following?\n",
    "\n",
    "5 \n",
    "\n",
    "5.0\n",
    "\n",
    "5 > 1\n",
    "\n",
    "'5'\n",
    "\n",
    "5 * 2\n",
    "\n",
    "'5' * 2\n",
    "\n",
    "'5' + '2'\n",
    "\n",
    "5 / 2\n",
    "\n",
    "5 % 2\n",
    "\n",
    "{5, 2, 1}\n",
    "\n",
    "5 == 3\n",
    "\n",
    "Pi (the number)\n"
   ]
  },
  {
   "cell_type": "code",
   "execution_count": 33,
   "id": "f66aa4d8",
   "metadata": {
    "scrolled": false
   },
   "outputs": [
    {
     "name": "stdout",
     "output_type": "stream",
     "text": [
      "Integer Number: System.Int32\n",
      "Floating Point Number: System.Double\n",
      "Boolean Value: System.Boolean\n",
      "String Value: System.String\n",
      "Integer Result: System.Int32\n",
      "String Result: System.Int32\n",
      "String Concatenation: System.String\n",
      "Division Result: System.Double\n",
      "Modulus Result: System.Int32\n",
      "Array: System.Int32[]\n",
      "Comparison Result: System.Boolean\n",
      "pi Value: System.Double\n"
     ]
    }
   ],
   "source": [
    "int integerNumber = 5;\n",
    "        double floatingPointNumber = 5.0;\n",
    "        bool booleanValue = 5 > 1;\n",
    "        string stringValue = \"5\";\n",
    "        int integerResult = 5 * 2;\n",
    "         \n",
    "        string stringConcatenation = \"5\" + \"2\";\n",
    "        double divisionResult = 5.0 / 2.0; \n",
    "        int modulusResult = 5 % 2;\n",
    "        int[] array = { 5, 2, 1 };\n",
    "        bool comparisonResult = 5 == 3;\n",
    "        double piValue = Math.PI; \n",
    "\n",
    "        Console.WriteLine($\"Integer Number: {integerNumber.GetType()}\");\n",
    "        Console.WriteLine($\"Floating Point Number: {floatingPointNumber.GetType()}\");\n",
    "        Console.WriteLine($\"Boolean Value: {booleanValue.GetType()}\");\n",
    "        Console.WriteLine($\"String Value: {stringValue.GetType()}\");\n",
    "        Console.WriteLine($\"Integer Result: {integerResult.GetType()}\");\n",
    "        Console.WriteLine($\"String Result: \"+('5' * 2).GetType());\n",
    "        Console.WriteLine($\"String Concatenation: {stringConcatenation.GetType()}\");\n",
    "        Console.WriteLine($\"Division Result: {divisionResult.GetType()}\");\n",
    "        Console.WriteLine($\"Modulus Result: {modulusResult.GetType()}\");\n",
    "        Console.WriteLine($\"Array: {array.GetType()}\");\n",
    "        Console.WriteLine($\"Comparison Result: {comparisonResult.GetType()}\");\n",
    "        Console.WriteLine($\"pi Value: {piValue.GetType()}\");\n"
   ]
  },
  {
   "cell_type": "markdown",
   "id": "041316d2",
   "metadata": {},
   "source": [
    "2)Write (and evaluate) C# expressions that answer these questions:\n",
    "\n",
    "a. How many letters are there in 'Supercalifragilisticexpialidocious'?\n",
    "\n",
    "b. Does 'Supercalifragilisticexpialidocious' contain 'ice' as a substring? \n",
    "\n",
    "c. Which of the following words is the longest: \n",
    "\n",
    "Supercalifragilisticexpialidocious, Honorificabilitudinitatibus, or \n",
    "Bababadalgharaghtakamminarronnkonn? \n",
    "\n",
    "d. Which composer comes first in the dictionary: 'Berlioz', 'Borodin', 'Brian', \n",
    "'Bartok', 'Bellini', 'Buxtehude', 'Bernstein'. Which one comes last?"
   ]
  },
  {
   "cell_type": "code",
   "execution_count": 36,
   "id": "cff15bb0",
   "metadata": {
    "scrolled": true
   },
   "outputs": [
    {
     "name": "stdout",
     "output_type": "stream",
     "text": [
      "Number of letters: 34\n",
      "Contains 'ice': True\n",
      "Longest word: Supercalifragilisticexpialidocious\n",
      "First composer: Bartok\n",
      "Last composer: Buxtehude\n"
     ]
    }
   ],
   "source": [
    "string word = \"Supercalifragilisticexpialidocious\";\n",
    "int letterCount = word.Length;\n",
    "Console.WriteLine($\"Number of letters: {letterCount}\");\n",
    "bool containsSubstring = word.Contains(\"ice\");\n",
    "Console.WriteLine($\"Contains 'ice': {containsSubstring}\");\n",
    "string word2 = \"Honorificabilitudinitatibus\";\n",
    "string word3 = \"Bababadalgharaghtakamminarronnkonn\";\n",
    "\n",
    "string longestWord = word;\n",
    "\n",
    "if (word2.Length > longestWord.Length)\n",
    "{\n",
    "    longestWord = word2;\n",
    "}\n",
    "\n",
    "if (word3.Length > longestWord.Length)\n",
    "{\n",
    "    longestWord = word3;\n",
    "}\n",
    "\n",
    "Console.WriteLine($\"Longest word: {longestWord}\");\n",
    "string[] composers = { \"Berlioz\", \"Borodin\", \"Brian\", \"Bartok\", \"Bellini\", \"Buxtehude\", \"Bernstein\" };\n",
    "Array.Sort(composers);\n",
    "\n",
    "string composer1 = composers[0];\n",
    "string composer2 = composers[composers.Length - 1];\n",
    "\n",
    "Console.WriteLine($\"First composer: {composer1}\");\n",
    "Console.WriteLine($\"Last composer: {composer2}\");\n",
    "\n"
   ]
  },
  {
   "cell_type": "markdown",
   "id": "fc33f100",
   "metadata": {},
   "source": [
    "3)Implement function triangleArea(a,b,c) that takes as input the lengths of the 3\n",
    "sides of a triangle and returns the area of the triangle. \n",
    "By Heron's formula, the area \n",
    "of a triangle with side lengths a, b, and c is\n",
    "s(s - a)(s -b)(s -c)\n",
    ", where \n",
    "s = (a+b+c)/2. \n",
    "\n"
   ]
  },
  {
   "cell_type": "code",
   "execution_count": 18,
   "id": "6695d205",
   "metadata": {
    "scrolled": true
   },
   "outputs": [
    {
     "name": "stdout",
     "output_type": "stream",
     "text": [
      "1.7320508075688772\r\n"
     ]
    }
   ],
   "source": [
    "static double TriangleArea(double a, double b, double c)\n",
    "    {\n",
    "        // Calculate the semi-perimeter (s)\n",
    "        double s = (a + b + c) / 2.0;\n",
    "\n",
    "        // Calculate the area using Heron's formula\n",
    "        double area = Math.Sqrt(s * (s - a) * (s - b) * (s - c));\n",
    "\n",
    "        return area;\n",
    "    }\n",
    "\n",
    "        double result = TriangleArea(2, 2, 2);\n",
    "        Console.WriteLine(result);"
   ]
  },
  {
   "cell_type": "markdown",
   "id": "442fe053",
   "metadata": {},
   "source": [
    "4)Write a program in C# Sharp to separate odd and even integers in separate arrays. \n",
    "\n",
    "Go to the editor\n",
    "Test Data :\n",
    "\n",
    "Input the number of elements to be stored in the array :5\n",
    "\n",
    "Input 5 elements in the array :\n",
    "\n",
    "element - 0 : 25\n",
    "\n",
    "element - 1 : 47\n",
    "\n",
    "element - 2 : 42\n",
    "\n",
    "element - 3 : 56\n",
    "\n",
    "element - 4 : 32\n"
   ]
  },
  {
   "cell_type": "code",
   "execution_count": 25,
   "id": "129c29f7",
   "metadata": {
    "scrolled": true
   },
   "outputs": [
    {
     "name": "stdout",
     "output_type": "stream",
     "text": [
      "\n",
      "Even numbers:\n",
      "42\n",
      "56\n",
      "32\n",
      "0\n",
      "0\n",
      "\n",
      "Odd numbers:\n",
      "25\n",
      "47\n",
      "0\n",
      "0\n",
      "0\n"
     ]
    }
   ],
   "source": [
    "int[] number = new int[] {25,47,42,56,32};\n",
    "\n",
    "int[] evennumber = new int[5];\n",
    "\n",
    "int[] oddnumber = new int[5];\n",
    "\n",
    "int j=0,k=0;\n",
    "\n",
    "for(int i=0; i<number.Length; i++)\n",
    "\n",
    "{if (number[i] % 2 == 0)\n",
    "\n",
    "{\n",
    "\n",
    "evennumber[j]=number[i];\n",
    "\n",
    "j++;\n",
    "\n",
    "}\n",
    "\n",
    "else\n",
    "\n",
    "{\n",
    "\n",
    "oddnumber[k]=number[i];\n",
    "\n",
    "k++;\n",
    "\n",
    "}\n",
    "\n",
    "}\n",
    "\n",
    "Console.WriteLine(\"\\nEven numbers:\");\n",
    "\n",
    "for (int l = 0; l < evennumber.Length; l++)\n",
    "\n",
    "{\n",
    "\n",
    "Console.WriteLine(evennumber[l]);\n",
    "\n",
    "}\n",
    "\n",
    " \n",
    "\n",
    "Console.WriteLine(\"\\nOdd numbers:\");\n",
    "\n",
    "for (int m = 0; m < oddnumber.Length; m++)\n",
    "\n",
    "{\n",
    "\n",
    "Console.WriteLine(oddnumber[m]);\n",
    "\n",
    "  }"
   ]
  },
  {
   "cell_type": "markdown",
   "id": "c54818e9",
   "metadata": {},
   "source": [
    "5)a. Write a function inside(x,y,x1,y1,x2,y2) that returns True or False \n",
    "depending on whether the point (x,y) lies in the rectangle with lower left \n",
    "corner (x1,y1) and upper right corner (x2,y2).\n",
    "\n",
    "b. Use function inside() from part a. to write an expression that tests whether \n",
    "the point (1,1) lies in both of the following rectangles: one with lower left \n",
    "corner (0.3, 0.5) and upper right corner (1.1, 0.7) and the other with lower \n",
    "left corner (0.5, 0.2) and upper right corner (1.1, 2)."
   ]
  },
  {
   "cell_type": "code",
   "execution_count": 23,
   "id": "4473bd7a",
   "metadata": {},
   "outputs": [
    {
     "name": "stdout",
     "output_type": "stream",
     "text": [
      "True\n",
      "False\n",
      "False\n"
     ]
    }
   ],
   "source": [
    "static bool Inside(double x, double y, double x1, double y1, double x2, double y2)\n",
    "    {\n",
    "        return x >= x1 && x <= x2 && y >= y1 && y <= y2;\n",
    "    }\n",
    "\n",
    "        // Test cases for part a\n",
    "        bool result1 = Inside(1, 1, 0, 0, 2, 3);\n",
    "        Console.WriteLine(result1); // True\n",
    "\n",
    "        bool result2 = Inside(-1, -1, 0, 0, 2, 3);\n",
    "        Console.WriteLine(result2); // False\n",
    "\n",
    "        // Test case for part b\n",
    "        bool pointInFirstRectangle = Inside(1, 1, 0.3, 0.5, 1.1, 0.7);\n",
    "        bool pointInSecondRectangle = Inside(1, 1, 0.5, 0.2, 1.1, 2);\n",
    "\n",
    "        // Check if the point (1,1) is inside both rectangles\n",
    "        bool pointInBothRectangles = pointInFirstRectangle && pointInSecondRectangle;\n",
    "        Console.WriteLine(pointInBothRectangles); // False, because it's not inside both rectangles\n"
   ]
  },
  {
   "cell_type": "code",
   "execution_count": null,
   "id": "63014b1f",
   "metadata": {},
   "outputs": [],
   "source": [
    "\n"
   ]
  },
  {
   "cell_type": "code",
   "execution_count": null,
   "id": "0d80e354",
   "metadata": {},
   "outputs": [],
   "source": []
  }
 ],
 "metadata": {
  "kernelspec": {
   "display_name": ".NET (C#)",
   "language": "C#",
   "name": ".net-csharp"
  },
  "language_info": {
   "file_extension": ".cs",
   "mimetype": "text/x-csharp",
   "name": "C#",
   "pygments_lexer": "csharp",
   "version": "8.0"
  }
 },
 "nbformat": 4,
 "nbformat_minor": 5
}
