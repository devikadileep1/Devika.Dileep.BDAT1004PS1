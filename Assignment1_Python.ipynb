{
 "cells": [
  {
   "cell_type": "markdown",
   "id": "f97709b1",
   "metadata": {},
   "source": [
    "6)You can turn a word into pig-Latin using the following two rules (simplified):\n",
    "\n",
    "• If the word starts with a consonant, move that letter to the end and append \n",
    "'ay'. For example, 'happy' becomes 'appyhay' and 'pencil' becomes 'encilpay'.\n",
    "\n",
    "• If the word starts with a vowel, simply append 'way' to the end of the word. \n",
    "For example, 'enter' becomes 'enterway' and 'other' becomes 'otherway' . For \n",
    "our purposes, there are 5 vowels: a, e, i, o, u (so we count y as a consonant).\n",
    "\n",
    "Write a function pig() that takes a word (i.e., a string) as input and returns its pig\u0002Latin form. Your function should still work if the input word contains upper case \n",
    "characters. Your output should always be lower case however. \n"
   ]
  },
  {
   "cell_type": "code",
   "execution_count": 14,
   "id": "cb5f95c9",
   "metadata": {
    "scrolled": true
   },
   "outputs": [
    {
     "name": "stdout",
     "output_type": "stream",
     "text": [
      "appyhay\n",
      "enterway\n"
     ]
    }
   ],
   "source": [
    "def pig(word):\n",
    "    word = word.lower()\n",
    "    vowels = \"aeiou\"\n",
    "    if word[0] in vowels:\n",
    "        return word + \"way\"\n",
    "\n",
    "    \n",
    "    else:\n",
    "        return word[1:] + word[0] + \"ay\"\n",
    "\n",
    "\n",
    "print(pig('happy'))  \n",
    "print(pig('Enter'))  \n",
    "\n"
   ]
  },
  {
   "cell_type": "markdown",
   "id": "cebd41eb",
   "metadata": {},
   "source": [
    "7)File bloodtype1.txt records blood-types of patients (A, B, AB, O or OO) at a clinic. \n",
    "Write a function bldcount() that reads the file with name name and reports (i.e., \n",
    "prints) how many patients there are in each bloodtype.\n"
   ]
  },
  {
   "cell_type": "code",
   "execution_count": 10,
   "id": "64109f76",
   "metadata": {},
   "outputs": [
    {
     "name": "stdout",
     "output_type": "stream",
     "text": [
      "There are no patients of blood type A.\n",
      "There are no patients of blood type B.\n",
      "There are no patients of blood type AB.\n",
      "There are no patients of blood type O.\n",
      "There are no patients of blood type OO.\n"
     ]
    }
   ],
   "source": [
    "def bldcount(filename):\n",
    "    blood_type_counts = {'A': 0, 'B': 0, 'AB': 0, 'O': 0, 'OO': 0}\n",
    "\n",
    "    try:\n",
    "        with open(filename, 'r') as file:\n",
    "            for line in file:\n",
    "                blood_type = line.strip()\n",
    "                if blood_type in blood_type_counts:\n",
    "                    blood_type_counts[blood_type] += 1\n",
    "\n",
    "        for blood_type, count in blood_type_counts.items():\n",
    "            if count == 1:\n",
    "                print(f\"There is one patient of blood type {blood_type}.\")\n",
    "            elif count > 1:\n",
    "                print(f\"There are {count} patients of blood type {blood_type}.\")\n",
    "            else:\n",
    "                print(f\"There are no patients of blood type {blood_type}.\")\n",
    "\n",
    "    except FileNotFoundError:\n",
    "        print(f\"File '{filename}' not found.\")\n",
    "\n",
    "\n",
    "bldcount('bloodtype1.txt')\n",
    "\n"
   ]
  },
  {
   "cell_type": "markdown",
   "id": "3f13b0a3",
   "metadata": {},
   "source": [
    "8) Write a function curconv() that takes as input:\n",
    "\n",
    "a) a currency represented using a string (e.g., 'JPY' for the Japanese Yen or \n",
    "'EUR' for the Euro)\n",
    "\n",
    "b) an amount\n",
    "and then converts and returns the amount in US dollars."
   ]
  },
  {
   "cell_type": "code",
   "execution_count": 11,
   "id": "fff2d869",
   "metadata": {
    "scrolled": true
   },
   "outputs": [
    {
     "name": "stdout",
     "output_type": "stream",
     "text": [
      "122.96544\n",
      "1.241401\n"
     ]
    }
   ],
   "source": [
    "def curconv(currency, amount):\n",
    "    try:\n",
    "        with open('currencies.txt', 'r') as file:\n",
    "            for line in file:\n",
    "                parts = line.split()\n",
    "                if len(parts) >= 3 and parts[0] == currency:\n",
    "                    exchange_rate = float(parts[1])\n",
    "                    converted_amount = amount * exchange_rate\n",
    "                    return converted_amount\n",
    "\n",
    "        print(f\"Currency code '{currency}' not found in the file.\")\n",
    "        return None\n",
    "\n",
    "    except FileNotFoundError:\n",
    "        print(\"File 'currencies.txt' not found.\")\n",
    "        return None\n",
    "\n",
    "\n",
    "print(curconv('EUR', 100))  \n",
    "print(curconv('JPY', 100))  \n"
   ]
  },
  {
   "cell_type": "markdown",
   "id": "d0b51d5f",
   "metadata": {},
   "source": [
    "9) Each of the following will cause an exception (an error). Identify what type of \n",
    "exception each will cause.\n",
    "\n",
    "a)Trying to add incompatible variables, as in \n",
    "adding 6 + ‘a’\n",
    "\n",
    "b)Referring to the 12th item of a list that has only 10 \n",
    "items\n",
    "\n",
    "c)Using a value that is out of range for a function’s \n",
    "input, such as calling math.sqrt(-1.0)\n",
    "\n",
    "d)Using an undeclared variable, such as print(x)\n",
    "when x has not been defined\n",
    "\n",
    "e)Trying to open a file that does not exist, such as \n",
    "mistyping the file name or looking in the wrong \n",
    "directory."
   ]
  },
  {
   "cell_type": "code",
   "execution_count": 7,
   "id": "185f0777",
   "metadata": {},
   "outputs": [
    {
     "name": "stdout",
     "output_type": "stream",
     "text": [
      "Scenario 1: TypeError: unsupported operand type(s) for +: 'int' and 'str'\n",
      "Scenario 2: IndexError: list index out of range\n",
      "Scenario 3: ValueError: math domain error\n",
      "Scenario 4: NameError: name 'x' is not defined\n",
      "Scenario 5: FileNotFoundError: [Errno 2] No such file or directory: 'nonexistent_file.txt'\n"
     ]
    }
   ],
   "source": [
    "import math\n",
    "\n",
    "# Scenario 1: Trying to add incompatible variables\n",
    "try:\n",
    "    result = 6 + 'a'\n",
    "except TypeError as e:\n",
    "    print(f\"Scenario 1: {type(e).__name__}: {e}\")\n",
    "\n",
    "# Scenario 2: Referring to the 12th item of a list with only 10 items\n",
    "try:\n",
    "    my_list = [1, 2, 3, 4, 5, 6, 7, 8, 9, 10]\n",
    "    item = my_list[12]\n",
    "except IndexError as e:\n",
    "    print(f\"Scenario 2: {type(e).__name__}: {e}\")\n",
    "\n",
    "# Scenario 3: Using a value that is out of range for a function's input\n",
    "try:\n",
    "    result = math.sqrt(-1.0)\n",
    "except ValueError as e:\n",
    "    print(f\"Scenario 3: {type(e).__name__}: {e}\")\n",
    "\n",
    "# Scenario 4: Using an undeclared variable\n",
    "try:\n",
    "    print(x)\n",
    "except NameError as e:\n",
    "    print(f\"Scenario 4: {type(e).__name__}: {e}\")\n",
    "\n",
    "# Scenario 5: Trying to open a non-existent file\n",
    "try:\n",
    "    with open('nonexistent_file.txt', 'r') as file:\n",
    "        content = file.read()\n",
    "except FileNotFoundError as e:\n",
    "    print(f\"Scenario 5: {type(e).__name__}: {e}\")\n",
    "\n",
    "    "
   ]
  },
  {
   "cell_type": "markdown",
   "id": "0ac325f1",
   "metadata": {},
   "source": [
    "10) Assume that the string letters is already defined as \n",
    "'abcdefghijklmnopqrstuvwxyz'. Write a function called frequencies()\n",
    "that takes a string as its only parameter, and returns a list of integers, showing the \n",
    "number of times each character appears in the text. Your function may ignore any \n",
    "characters that are not in letters. "
   ]
  },
  {
   "cell_type": "code",
   "execution_count": 15,
   "id": "621e52e5",
   "metadata": {},
   "outputs": [
    {
     "name": "stdout",
     "output_type": "stream",
     "text": [
      "[1, 1, 1, 3, 5, 1, 1, 2, 1, 0, 1, 0, 1, 2, 4, 0, 1, 2, 0, 3, 1, 0, 1, 1, 0, 0]\n",
      "[1, 0, 0, 0, 1, 0, 0, 0, 0, 0, 0, 1, 0, 0, 0, 2, 0, 0, 0, 0, 0, 0, 0, 0, 0, 0]\n"
     ]
    }
   ],
   "source": [
    "def frequencies(text):\n",
    "    \n",
    "    letters = 'abcdefghijklmnopqrstuvwxyz'\n",
    "    counts = [0] * 26\n",
    "\n",
    "    text = text.lower()\n",
    "\n",
    "    for char in text:\n",
    "        if char in letters:\n",
    "            index = letters.index(char)\n",
    "            counts[index] += 1\n",
    "\n",
    "    return counts\n",
    "\n",
    "\n",
    "result1 = frequencies('The quick red fox got bored and went home.')\n",
    "print(result1)\n",
    "\n",
    "result2 = frequencies('apple')\n",
    "print(result2)\n",
    "\n"
   ]
  },
  {
   "cell_type": "code",
   "execution_count": null,
   "id": "f6092e29",
   "metadata": {},
   "outputs": [],
   "source": []
  },
  {
   "cell_type": "code",
   "execution_count": null,
   "id": "6b601240",
   "metadata": {},
   "outputs": [],
   "source": []
  }
 ],
 "metadata": {
  "kernelspec": {
   "display_name": "Python 3 (ipykernel)",
   "language": "python",
   "name": "python3"
  },
  "language_info": {
   "codemirror_mode": {
    "name": "ipython",
    "version": 3
   },
   "file_extension": ".py",
   "mimetype": "text/x-python",
   "name": "python",
   "nbconvert_exporter": "python",
   "pygments_lexer": "ipython3",
   "version": "3.11.5"
  }
 },
 "nbformat": 4,
 "nbformat_minor": 5
}
